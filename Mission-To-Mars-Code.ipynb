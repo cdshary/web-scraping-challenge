{
 "cells": [
  {
   "cell_type": "code",
   "execution_count": 71,
   "metadata": {},
   "outputs": [],
   "source": [
    "# import necessary libraries\n",
    "from flask import Flask, render_template, redirect\n",
    "from splinter import Browser\n",
    "from selenium import webdriver\n",
    "import time\n",
    "import os\n",
    "import pymongo\n",
    "import requests\n",
    "import pandas as pd\n",
    "from bs4 import BeautifulSoup as bs\n",
    "from selenium.webdriver.chrome.service import Service"
   ]
  },
  {
   "cell_type": "code",
   "execution_count": 72,
   "metadata": {},
   "outputs": [
    {
     "name": "stderr",
     "output_type": "stream",
     "text": "'which' is not recognized as an internal or external command,\noperable program or batch file.\n"
    }
   ],
   "source": [
    "!which chromedriver"
   ]
  },
  {
   "cell_type": "code",
   "execution_count": 58,
   "metadata": {},
   "outputs": [],
   "source": [
    "\n",
    "\n",
    "executable_path = {'executable_path': 'chromedriver.exe'}\n",
    "browser = Browser('chrome', **executable_path, headless=False)"
   ]
  },
  {
   "cell_type": "code",
   "execution_count": 59,
   "metadata": {},
   "outputs": [],
   "source": [
    "# The default port used by MongoDB is 27017\n",
    "# https://docs.mongodb.com/manual/reference/default-mongodb-port/\n",
    "# conn = 'mongodb://localhost:27017'\n",
    "# client = pymongo.MongoClient(conn)"
   ]
  },
  {
   "cell_type": "code",
   "execution_count": 60,
   "metadata": {},
   "outputs": [],
   "source": [
    "# Define the 'classDB' database in Mongo\n",
    "# db = client.classDB\n",
    "# collection = db.items\n"
   ]
  },
  {
   "cell_type": "code",
   "execution_count": 69,
   "metadata": {},
   "outputs": [],
   "source": [
    "#URL to scrape\n",
    "url = 'https://mars.nasa.gov/news/' \n",
    "browser.visit(url)\n",
    "\n",
    "#retrieve page with request module\n",
    "response = requests.get(url)\n",
    "\n"
   ]
  },
  {
   "cell_type": "code",
   "execution_count": 70,
   "metadata": {},
   "outputs": [],
   "source": [
    "html = browser.html\n",
    "soup = bs(html,\"html.parser\")"
   ]
  },
  {
   "cell_type": "code",
   "execution_count": 68,
   "metadata": {},
   "outputs": [
    {
     "data": {
      "text/plain": "s</a>\\n</li>\\n<li>\\n<a href=\"/#red_planet/2\" target=\"_self\">The Planet</a>\\n</li>\\n<li>\\n<a href=\"/#red_planet/3\" target=\"_self\">Atmosphere</a>\\n</li>\\n<li>\\n<a href=\"/#red_planet/4\" target=\"_self\">Astrobiology</a>\\n</li>\\n<li>\\n<a href=\"/#red_planet/5\" target=\"_self\">Past, Present, Future, Timeline</a>\\n</li>\\n\\n</ul>\\n</div>\\n</li></ul>\\n</div>\\n</div>\\n<div class=\"sitemap_block\" style=\"position: absolute; left: 164px; top: 0px;\">\\n<div class=\"footer_sitemap_item\">\\n<h3 class=\"sitemap_title\">\\n<a href=\"/#mars_exploration_program\">The Program</a>\\n</h3>\\n<ul><li>\\n<div class=\"global_subnav_container\">\\n<ul class=\"subnav\">\\n<li>\\n<a href=\"/#mars_exploration_program/0\" target=\"_self\">Mission Statement</a>\\n</li>\\n<li>\\n<a href=\"/#mars_exploration_program/1\" target=\"_self\">About the Program</a>\\n</li>\\n<li>\\n<a href=\"/#mars_exploration_program/2\" target=\"_self\">Organization</a>\\n</li>\\n<li>\\n<a href=\"/#mars_exploration_program/3\" target=\"_self\">Why Mars?</a>\\n</li>\\n<li>\\n<a href=\"/#mars_exploration_program/4\" target=\"_self\">Research Programs</a>\\n</li>\\n<li>\\n<a href=\"/#mars_exploration_program/5\" target=\"_self\">Planetary Resources</a>\\n</li>\\n<li>\\n<a href=\"/#mars_exploration_program/6\" target=\"_self\">Technologies</a>\\n</li>\\n\\n</ul>\\n</div>\\n</li></ul>\\n</div>\\n</div>\\n<div class=\"sitemap_block\" style=\"position: absolute; left: 329px; top: 0px;\">\\n<div class=\"footer_sitemap_item\">\\n<h3 class=\"sitemap_title\">\\n<a href=\"/#news_and_events\">News &amp; Events</a>\\n</h3>\\n<ul><li>\\n<div class=\"global_subnav_container\">\\n<ul class=\"subnav\">\\n<li class=\"current\">\\n<a href=\"/news\" target=\"_self\">News</a>\\n</li>\\n<li>\\n<a href=\"/events\" target=\"_self\">Events</a>\\n</li>\\n\\n</ul>\\n</div>\\n</li></ul>\\n</div>\\n</div>\\n<div class=\"sitemap_block\" style=\"position: absolute; left: 494px; top: 0px;\">\\n<div class=\"footer_sitemap_item\">\\n<h3 class=\"sitemap_title\">\\n<a href=\"/#multimedia\">Multimedia</a>\\n</h3>\\n<ul><li>\\n<div class=\"global_subnav_container\">\\n<ul class=\"subnav\">\\n<li>\\n<a href=\"/multimedia/images/\" target=\"_self\">Images</a>\\n</li>\\n<li>\\n<a href=\"/multimedia/videos/\" target=\"_self\">Videos</a>\\n</li>\\n\\n</ul>\\n</div>\\n</li></ul>\\n</div>\\n</div>\\n<div class=\"sitemap_block\" style=\"position: absolute; left: 659px; top: 0px;\">\\n<div class=\"footer_sitemap_item\">\\n<h3 class=\"sitemap_title\">\\n<a href=\"/#missions\">Missions</a>\\n</h3>\\n<ul><li>\\n<div class=\"global_subnav_container\">\\n<ul class=\"subnav\">\\n<li>\\n<a href=\"/mars-exploration/missions/?category=167\" target=\"_self\">Past</a>\\n</li>\\n<li>\\n<a href=\"/mars-exploration/missions/?category=170\" target=\"_self\">Present</a>\\n</li>\\n<li>\\n<a href=\"/mars-exploration/missions/?category=171\" target=\"_self\">Future</a>\\n</li>\\n<li>\\n<a href=\"/mars-exploration/partners\" target=\"_self\">International Partners</a>\\n</li>\\n\\n</ul>\\n</div>\\n</li></ul>\\n</div>\\n</div>\\n<div class=\"sitemap_block\" style=\"position: absolute; left: 823px; top: 0px;\">\\n<div class=\"footer_sitemap_item\">\\n<h3 class=\"sitemap_title\">\\n<a href=\"/#more\">More</a>\\n</h3>\\n<ul><li>\\n<div class=\"global_subnav_container\">\\n<ul class=\"subnav\">\\n\\n</ul>\\n</div>\\n</li></ul>\\n</div>\\n</div>\\n\\n</div>\\n<div class=\"gradient_line\"></div>\\n</section>\\n<section class=\"lower_footer\">\\n<div class=\"nav_container\">\\n<nav>\\n<ul>\\n<li>\\n<a href=\"http://science.nasa.gov/\" target=\"_blank\">NASA Science Mission Directorate</a>\\n</li>\\n<li>\\n<a href=\"https://www.jpl.nasa.gov/copyrights.php\" target=\"_blank\">Privacy</a>\\n</li>\\n<li>\\n<a href=\"http://www.jpl.nasa.gov/imagepolicy/\" target=\"_blank\">Image Policy</a>\\n</li>\\n<li>\\n<a href=\"https://mars.nasa.gov/feedback/\" target=\"_self\">Feedback</a>\\n</li>\\n\\n</ul>\\n</nav>\\n</div>\\n<div class=\"credits\">\\n<div class=\"footer_brands_top\">\\n<p>Managed by the Mars Exploration Program and the Jet Propulsion Laboratory for NASA’s Science Mission Directorate</p>\\n</div>\\n<!-- .footer_brands -->\\n<!-- %a.jpl{href: \"\", target: \"_blank\"}Institution -->\\n<!--  -->\\n<!-- %a.caltech{href: \"\", target: \"_blank\"}Institution -->\\n<!-- .staff -->\\n<!-- %p -->\\n<!-- - get_staff_for_category(get_field_from_admin_config(:web_staff_category_id)) -->\\n<!-- - @staff.each_with_index do |staff, idx| -->\\n<!-- - unless staff.is_in_footer == 0 -->\\n<!-- = staff.title + \": \" -->\\n<!-- - if staff.contact_link =~ /@/ -->\\n<!-- = mail_to staff.contact_link, staff.name, :subject => \"[#{@site_title}]\" -->\\n<!-- - elsif staff.contact_link.present? -->\\n<!-- = link_to staff.name, staff.contact_link -->\\n<!-- - else -->\\n<!-- = staff.name -->\\n<!-- - unless (idx + 1 == @staff.size) -->\\n<!-- %br -->\\n</div>\\n</section>\\n</div>\\n</footer>\\n\\n</div>\\n</div><div id=\"_atssh\" style=\"visibility: hidden; height: 1px; width: 1px; position: absolute; top: -9999px; z-index: 100000;\"><iframe id=\"_atssh620\" title=\"AddThis utility frame\" style=\"height: 1px; width: 1px; position: absolute; top: 0px; z-index: 100000; border: 0px; left: 0px;\" src=\"https://s7.addthis.com/static/sh.f48a1a04fe8dbf021b4cda1d.html#rand=0.7138949546033446&amp;iit=1576958260565&amp;tmr=load%3D1576958260362%26core%3D1576958260422%26main%3D1576958260561%26ifr%3D1576958260567&amp;cb=0&amp;cdn=0&amp;md=0&amp;kw=Mars%2Cmissions%2CNASA%2Crover%2CCuriosity%2COpportunity%2CInSight%2CMars%20Reconnaissance%20Orbiter%2Cfacts&amp;ab=-&amp;dh=mars.nasa.gov&amp;dr=&amp;du=https%3A%2F%2Fmars.nasa.gov%2Fnews%2F&amp;href=https%3A%2F%2Fmars.nasa.gov%2Fnews%2F&amp;dt=News%20%20%E2%80%93%20NASA%E2%80%99s%20Mars%20Exploration%20Program&amp;dbg=0&amp;cap=tc%3D0%26ab%3D0&amp;inst=1&amp;jsl=1&amp;prod=undefined&amp;lng=en&amp;ogt=image%2Cupdated_time%2Ctype%3Darticle%2Curl%2Ctitle%2Cdescription%2Csite_name&amp;pc=men&amp;pub=ra-5a690e4c1320e328&amp;ssl=1&amp;sid=5dfe793430c3237f&amp;srf=0.01&amp;ver=300&amp;xck=1&amp;xtr=0&amp;og=site_name%3DNASA%25E2%2580%2599s%2520Mars%2520Exploration%2520Program%26description%3DNASA%25E2%2580%2599s%2520real-time%2520portal%2520for%2520Mars%2520exploration%252C%2520featuring%2520the%2520latest%2520news%252C%2520images%252C%2520and%2520discoveries%2520from%2520the%2520Red%2520Planet.%26title%3DNews%2520%2520%25E2%2580%2593%2520NASA%25E2%2580%2599s%2520Mars%2520Exploration%2520Program%26url%3Dhttps%253A%252F%252Fmars.nasa.gov%252Fnews%26type%3Darticle%26updated_time%3D2017-09-22%252019%253A53%253A22%2520UTC%26image%3Dhttps%253A%252F%252Fmars.nasa.gov%252Fsystem%252Fsite_config_values%252Fmeta_share_images%252F1_142497main_PIA03154-200.jpg&amp;csi=undefined&amp;rev=v8.28.1-wp&amp;ct=1&amp;xld=1&amp;xd=1\"></iframe></div><style id=\"service-icons-0\"></style>\\n<script id=\"_fed_an_ua_tag\" src=\"https://dap.digitalgov.gov/Universal-Federated-Analytics-Min.js?agency=NASA&amp;subagency=JPL-Mars-MEPJPL&amp;pua=UA-9453474-9,UA-118212757-11&amp;dclink=true&amp;sp=searchbox&amp;exts=tif,tiff,wav\" type=\"text/javascript\"></script>\\n\\n\\n\\n\\n<div class=\"addthis-smartlayers at4-visually-hidden addthis-smartlayers-desktop\" aria-labelledby=\"at4-share-label\" role=\"region\"><div id=\"at4-share-label\">AddThis Sharing Sidebar</div><div id=\"at4-share\" class=\"at4-share addthis_32x32_style atss atss-left\"><a role=\"button\" tabindex=\"0\" class=\"at-share-btn at-svc-facebook\"><span class=\"at4-visually-hidden\">Share to Facebook</span><span class=\"at-icon-wrapper\" style=\"background-color: rgb(59, 89, 152);\"><svg xmlns=\"http://www.w3.org/2000/svg\" xmlns:xlink=\"http://www.w3.org/1999/xlink\" viewBox=\"0 0 32 32\" version=\"1.1\" role=\"img\" aria-labelledby=\"at-svg-facebook-1\" style=\"fill: rgb(255, 255, 255);\" class=\"at-icon at-icon-facebook\"><title id=\"at-svg-facebook-1\">Facebook</title><g><path d=\"M22 5.16c-.406-.054-1.806-.16-3.43-.16-3.4 0-5.733 1.825-5.733 5.17v2.882H9v3.913h3.837V27h4.604V16.965h3.823l.587-3.913h-4.41v-2.5c0-1.123.347-1.903 2.198-1.903H22V5.16z\" fill-rule=\"evenodd\"></path></g></svg></span></a><a role=\"button\" tabindex=\"0\" class=\"at-share-btn at-svc-twitter\"><span class=\"at4-visually-hidden\">Share to Twitter</span><span class=\"at-icon-wrapper\" style=\"background-color: rgb(29, 161, 242);\"><svg xmlns=\"http://www.w3.org/2000/svg\" xmlns:xlink=\"http://www.w3.org/1999/xlink\" viewBox=\"0 0 32 32\" version=\"1.1\" role=\"img\" aria-labelledby=\"at-svg-twitter-2\" style=\"fill: rgb(255, 255, 255);\" class=\"at-icon at-icon-twitter\"><title id=\"at-svg-twitter-2\">Twitter</title><g><path d=\"M27.996 10.116c-.81.36-1.68.602-2.592.71a4.526 4.526 0 0 0 1.984-2.496 9.037 9.037 0 0 1-2.866 1.095 4.513 4.513 0 0 0-7.69 4.116 12.81 12.81 0 0 1-9.3-4.715 4.49 4.49 0 0 0-.612 2.27 4.51 4.51 0 0 0 2.008 3.755 4.495 4.495 0 0 1-2.044-.564v.057a4.515 4.515 0 0 0 3.62 4.425 4.52 4.52 0 0 1-2.04.077 4.517 4.517 0 0 0 4.217 3.134 9.055 9.055 0 0 1-5.604 1.93A9.18 9.18 0 0 1 6 23.85a12.773 12.773 0 0 0 6.918 2.027c8.3 0 12.84-6.876 12.84-12.84 0-.195-.005-.39-.014-.583a9.172 9.172 0 0 0 2.252-2.336\" fill-rule=\"evenodd\"></path></g></svg></span></a><a role=\"button\" tabindex=\"0\" class=\"at-share-btn at-svc-reddit\"><span class=\"at4-visually-hidden\">Share to Reddit</span><span class=\"at-icon-wrapper\" style=\"background-color: rgb(255, 87, 0);\"><svg xmlns=\"http://www.w3.org/2000/svg\" xmlns:xlink=\"http://www.w3.org/1999/xlink\" viewBox=\"0 0 32 32\" version=\"1.1\" role=\"img\" aria-labelledby=\"at-svg-reddit-3\" style=\"fill: rgb(255, 255, 255);\" class=\"at-icon at-icon-reddit\"><title id=\"at-svg-reddit-3\">Reddit</title><g><path d=\"M27 15.5a2.452 2.452 0 0 1-1.338 2.21c.098.38.147.777.147 1.19 0 1.283-.437 2.47-1.308 3.563-.872 1.092-2.06 1.955-3.567 2.588-1.506.634-3.143.95-4.91.95-1.768 0-3.403-.316-4.905-.95-1.502-.632-2.69-1.495-3.56-2.587-.872-1.092-1.308-2.28-1.308-3.562 0-.388.045-.777.135-1.166a2.47 2.47 0 0 1-1.006-.912c-.253-.4-.38-.842-.38-1.322 0-.678.237-1.26.712-1.744a2.334 2.334 0 0 1 1.73-.726c.697 0 1.29.26 1.78.782 1.785-1.258 3.893-1.928 6.324-2.01l1.424-6.467a.42.42 0 0 1 .184-.26.4.4 0 0 1 .32-.063l4.53 1.006c.147-.306.368-.553.662-.74a1.78 1.78 0 0 1 .97-.278c.508 0 .94.18 1.302.54.36.36.54.796.54 1.31 0 .512-.18.95-.54 1.315-.36.364-.794.546-1.302.546-.507 0-.94-.18-1.295-.54a1.793 1.793 0 0 1-.533-1.308l-4.1-.92-1.277 5.86c2.455.074 4.58.736 6.37 1.985a2.315 2.315 0 0 1 1.757-.757c.68 0 1.256.242 1.73.726.476.484.713 1.066.713 1.744zm-16.868 2.47c0 .513.178.95.534 1.315.356.365.787.547 1.295.547.508 0 .942-.182 1.302-.547.36-.364.54-.802.54-1.315 0-.513-.18-.95-.54-1.31-.36-.36-.794-.54-1.3-.54-.5 0-.93.183-1.29.547a1.79 1.79 0 0 0-.54 1.303zm9.944 4.406c.09-.09.135-.2.135-.323a.444.444 0 0 0-.44-.447c-.124 0-.23.042-.32.124-.336.348-.83.605-1.486.77a7.99 7.99 0 0 1-1.964.248 7.99 7.99 0 0 1-1.964-.248c-.655-.165-1.15-.422-1.486-.77a.456.456 0 0 0-.32-.124.414.414 0 0 0-.306.124.41.41 0 0 0-.135.317.45.45 0 0 0 .134.33c.352.355.837.636 1.455.843.617.207 1.118.33 1.503.366a11.6 11.6 0 0 0 1.117.056c.36 0 .733-.02 1.117-.056.385-.037.886-.16 1.504-.366.62-.207 1.104-.488 1.456-.844zm-.037-2.544c.507 0 .938-.182 1.294-.547.356-.364.534-.802.534-1.315 0-.505-.18-.94-.54-1.303a1.75 1.75 0 0 0-1.29-.546c-.506 0-.94.18-1.3.54-.36.36-.54.797-.54 1.31s.18.95.54 1.315c.36.365.794.547 1.3.547z\" fill-rule=\"evenodd\"></path></g></svg></span></a><a role=\"button\" tabindex=\"0\" class=\"at-share-btn at-svc-email\"><span class=\"at4-visually-hidden\">Share to Email</span><span class=\"at-icon-wrapper\" style=\"background-color: rgb(132, 132, 132);\"><svg xmlns=\"http://www.w3.org/2000/svg\" xmlns:xlink=\"http://www.w3.org/1999/xlink\" viewBox=\"0 0 32 32\" version=\"1.1\" role=\"img\" aria-labelledby=\"at-svg-email-4\" style=\"fill: rgb(255, 255, 255);\" class=\"at-icon at-icon-email\"><title id=\"at-svg-email-4\">Email</title><g><g fill-rule=\"evenodd\"></g><path d=\"M27 22.757c0 1.24-.988 2.243-2.19 2.243H7.19C5.98 25 5 23.994 5 22.757V13.67c0-.556.39-.773.855-.496l8.78 5.238c.782.467 1.95.467 2.73 0l8.78-5.238c.472-.28.855-.063.855.495v9.087z\"></path><path d=\"M27 9.243C27 8.006 26.02 7 24.81 7H7.19C5.988 7 5 8.004 5 9.243v.465c0 .554.385 1.232.857 1.514l9.61 5.733c.267.16.8.16 1.067 0l9.61-5.733c.473-.283.856-.96.856-1.514v-.465z\"></path></g></svg></span></a><a role=\"button\" tabindex=\"0\" class=\"at-share-btn at-svc-compact\"><span class=\"at4-visually-hidden\">More AddThis Share options</span><span class=\"at-icon-wrapper\" style=\"background-color: rgb(255, 101, 80);\"><svg xmlns=\"http://www.w3.org/2000/svg\" xmlns:xlink=\"http://www.w3.org/1999/xlink\" viewBox=\"0 0 32 32\" version=\"1.1\" role=\"img\" aria-labelledby=\"at-svg-addthis-5\" style=\"fill: rgb(255, 255, 255);\" class=\"at-icon at-icon-addthis\"><title id=\"at-svg-addthis-5\">AddThis</title><g><path d=\"M18 14V8h-4v6H8v4h6v6h4v-6h6v-4h-6z\" fill-rule=\"evenodd\"></path></g></svg></span></a><div class=\"at-custom-sidebar-counter\" style=\"width: 48px; overflow-wrap: break-word;\"><div class=\"at-custom-sidebar-count\" style=\"color: rgb(34, 34, 34);\"></div><div class=\"at-custom-sidebar-text\" style=\"color: rgb(34, 34, 34);\">SHARES</div></div><div id=\"at4-scc\" class=\"at-share-close-control ats-transparent at4-hide-content at4-show\" title=\"Hide\"><div class=\"at4-arrow at-left\">Hide</div></div></div><div id=\"at4-soc\" class=\"at-share-open-control at-share-open-control-left ats-transparent at4-hide\" title=\"Show\"><div class=\"at4-arrow at-right\">Show</div></div></div><div id=\"at4-thankyou\" class=\"at4-thankyou at4-thankyou-background at4-hide ats-transparent at4-thankyou-desktop addthis-smartlayers addthis-animated fadeIn at4-show\" role=\"dialog\" aria-labelledby=\"at-thankyou-label\"><div class=\"at4lb-inner\"><button class=\"at4x\" title=\"Close\">Close</button><a id=\"at4-palogo\"><div><a class=\"at-branding-logo\" href=\"https://www.addthis.com/website-tools/overview?utm_source=AddThis%20Tools&amp;utm_medium=image\" title=\"Powered by AddThis\" target=\"_blank\"><div class=\"at-branding-icon\"></div><span class=\"at-branding-addthis\">AddThis</span></a></div></a><div class=\"at4-thankyou-inner\"><div id=\"at-thankyou-label\" class=\"thankyou-title\"></div><div class=\"thankyou-description\"></div><div class=\"at4-thankyou-layer\"></div></div></div></div><div class=\"at-share-dock-outer at4-hide addthis-smartlayers at4-visually-hidden addthis-smartlayers-mobile\" aria-labelledby=\"at-share-dock-label\" role=\"region\"><div id=\"at-share-dock-label\" class=\"at4-hide\">AddThis Sharing</div><div id=\"at-share-dock\" class=\"at-share-dock atss atss-bottom at-shfs-small addthis-animated slideInUp at4-show at4-hide\"><a href=\"#\" class=\"at4-count\" style=\"width: 16.6667%;\"><span class=\"at4-counter\"></span><span class=\"at4-share-label\">SHARES</span></a><a role=\"button\" tabindex=\"0\" title=\"Facebook\" class=\"at-share-btn at-svc-facebook\" style=\"width: 16.6667%;\"><span class=\"at-icon-wrapper\" style=\"background-color: rgb(59, 89, 152);\"><svg xmlns=\"http://www.w3.org/2000/svg\" xmlns:xlink=\"http://www.w3.org/1999/xlink\" viewBox=\"0 0 32 32\" version=\"1.1\" role=\"img\" aria-labelledby=\"at-svg-facebook-6\" title=\"Facebook\" alt=\"Facebook\" style=\"fill: rgb(255, 255, 255); width: 24px; height: 24px;\" class=\"at-icon at-icon-facebook\"><title id=\"at-svg-facebook-6\">Facebook</title><g><path d=\"M22 5.16c-.406-.054-1.806-.16-3.43-.16-3.4 0-5.733 1.825-5.733 5.17v2.882H9v3.913h3.837V27h4.604V16.965h3.823l.587-3.913h-4.41v-2.5c0-1.123.347-1.903 2.198-1.903H22V5.16z\" fill-rule=\"evenodd\"></path></g></svg></span></a><a role=\"button\" tabindex=\"0\" title=\"Twitter\" class=\"at-share-btn at-svc-twitter\" style=\"width: 16.6667%;\"><span class=\"at-icon-wrapper\" style=\"background-color: rgb(29, 161, 242);\"><svg xmlns=\"http://www.w3.org/2000/svg\" xmlns:xlink=\"http://www.w3.org/1999/xlink\" viewBox=\"0 0 32 32\" version=\"1.1\" role=\"img\" aria-labelledby=\"at-svg-twitter-7\" title=\"Twitter\" alt=\"Twitter\" style=\"fill: rgb(255, 255, 255); width: 24px; height: 24px;\" class=\"at-icon at-icon-twitter\"><title id=\"at-svg-twitter-7\">Twitter</title><g><path d=\"M27.996 10.116c-.81.36-1.68.602-2.592.71a4.526 4.526 0 0 0 1.984-2.496 9.037 9.037 0 0 1-2.866 1.095 4.513 4.513 0 0 0-7.69 4.116 12.81 12.81 0 0 1-9.3-4.715 4.49 4.49 0 0 0-.612 2.27 4.51 4.51 0 0 0 2.008 3.755 4.495 4.495 0 0 1-2.044-.564v.057a4.515 4.515 0 0 0 3.62 4.425 4.52 4.52 0 0 1-2.04.077 4.517 4.517 0 0 0 4.217 3.134 9.055 9.055 0 0 1-5.604 1.93A9.18 9.18 0 0 1 6 23.85a12.773 12.773 0 0 0 6.918 2.027c8.3 0 12.84-6.876 12.84-12.84 0-.195-.005-.39-.014-.583a9.172 9.172 0 0 0 2.252-2.336\" fill-rule=\"evenodd\"></path></g></svg></span></a><a role=\"button\" tabindex=\"0\" title=\"Reddit\" class=\"at-share-btn at-svc-reddit\" style=\"width: 16.6667%;\"><span class=\"at-icon-wrapper\" style=\"background-color: rgb(255, 87, 0);\"><svg xmlns=\"http://www.w3.org/2000/svg\" xmlns:xlink=\"http://www.w3.org/1999/xlink\" viewBox=\"0 0 32 32\" version=\"1.1\" role=\"img\" aria-labelledby=\"at-svg-reddit-8\" title=\"Reddit\" alt=\"Reddit\" style=\"fill: rgb(255, 255, 255); width: 24px; height: 24px;\" class=\"at-icon at-icon-reddit\"><title id=\"at-svg-reddit-8\">Reddit</title><g><path d=\"M27 15.5a2.452 2.452 0 0 1-1.338 2.21c.098.38.147.777.147 1.19 0 1.283-.437 2.47-1.308 3.563-.872 1.092-2.06 1.955-3.567 2.588-1.506.634-3.143.95-4.91.95-1.768 0-3.403-.316-4.905-.95-1.502-.632-2.69-1.495-3.56-2.587-.872-1.092-1.308-2.28-1.308-3.562 0-.388.045-.777.135-1.166a2.47 2.47 0 0 1-1.006-.912c-.253-.4-.38-.842-.38-1.322 0-.678.237-1.26.712-1.744a2.334 2.334 0 0 1 1.73-.726c.697 0 1.29.26 1.78.782 1.785-1.258 3.893-1.928 6.324-2.01l1.424-6.467a.42.42 0 0 1 .184-.26.4.4 0 0 1 .32-.063l4.53 1.006c.147-.306.368-.553.662-.74a1.78 1.78 0 0 1 .97-.278c.508 0 .94.18 1.302.54.36.36.54.796.54 1.31 0 .512-.18.95-.54 1.315-.36.364-.794.546-1.302.546-.507 0-.94-.18-1.295-.54a1.793 1.793 0 0 1-.533-1.308l-4.1-.92-1.277 5.86c2.455.074 4.58.736 6.37 1.985a2.315 2.315 0 0 1 1.757-.757c.68 0 1.256.242 1.73.726.476.484.713 1.066.713 1.744zm-16.868 2.47c0 .513.178.95.534 1.315.356.365.787.547 1.295.547.508 0 .942-.182 1.302-.547.36-.364.54-.802.54-1.315 0-.513-.18-.95-.54-1.31-.36-.36-.794-.54-1.3-.54-.5 0-.93.183-1.29.547a1.79 1.79 0 0 0-.54 1.303zm9.944 4.406c.09-.09.135-.2.135-.323a.444.444 0 0 0-.44-.447c-.124 0-.23.042-.32.124-.336.348-.83.605-1.486.77a7.99 7.99 0 0 1-1.964.248 7.99 7.99 0 0 1-1.964-.248c-.655-.165-1.15-.422-1.486-.77a.456.456 0 0 0-.32-.124.414.414 0 0 0-.306.124.41.41 0 0 0-.135.317.45.45 0 0 0 .134.33c.352.355.837.636 1.455.843.617.207 1.118.33 1.503.366a11.6 11.6 0 0 0 1.117.056c.36 0 .733-.02 1.117-.056.385-.037.886-.16 1.504-.366.62-.207 1.104-.488 1.456-.844zm-.037-2.544c.507 0 .938-.182 1.294-.547.356-.364.534-.802.534-1.315 0-.505-.18-.94-.54-1.303a1.75 1.75 0 0 0-1.29-.546c-.506 0-.94.18-1.3.54-.36.36-.54.797-.54 1.31s.18.95.54 1.315c.36.365.794.547 1.3.547z\" fill-rule=\"evenodd\"></path></g></svg></span></a><a role=\"button\" tabindex=\"0\" title=\"Email\" class=\"at-share-btn at-svc-email\" style=\"width: 16.6667%;\"><span class=\"at-icon-wrapper\" style=\"background-color: rgb(132, 132, 132);\"><svg xmlns=\"http://www.w3.org/2000/svg\" xmlns:xlink=\"http://www.w3.org/1999/xlink\" viewBox=\"0 0 32 32\" version=\"1.1\" role=\"img\" aria-labelledby=\"at-svg-email-9\" title=\"Email\" alt=\"Email\" style=\"fill: rgb(255, 255, 255); width: 24px; height: 24px;\" class=\"at-icon at-icon-email\"><title id=\"at-svg-email-9\">Email</title><g><g fill-rule=\"evenodd\"></g><path d=\"M27 22.757c0 1.24-.988 2.243-2.19 2.243H7.19C5.98 25 5 23.994 5 22.757V13.67c0-.556.39-.773.855-.496l8.78 5.238c.782.467 1.95.467 2.73 0l8.78-5.238c.472-.28.855-.063.855.495v9.087z\"></path><path d=\"M27 9.243C27 8.006 26.02 7 24.81 7H7.19C5.988 7 5 8.004 5 9.243v.465c0 .554.385 1.232.857 1.514l9.61 5.733c.267.16.8.16 1.067 0l9.61-5.733c.473-.283.856-.96.856-1.514v-.465z\"></path></g></svg></span></a><a role=\"button\" tabindex=\"0\" title=\"More\" class=\"at-share-btn at-svc-compact\" style=\"width: 16.6667%;\"><span class=\"at-icon-wrapper\" style=\"background-color: rgb(255, 101, 80);\"><svg xmlns=\"http://www.w3.org/2000/svg\" xmlns:xlink=\"http://www.w3.org/1999/xlink\" viewBox=\"0 0 32 32\" version=\"1.1\" role=\"img\" aria-labelledby=\"at-svg-addthis-10\" title=\"More\" alt=\"More\" style=\"fill: rgb(255, 255, 255); width: 24px; height: 24px;\" class=\"at-icon at-icon-addthis\"><title id=\"at-svg-addthis-10\">AddThis</title><g><path d=\"M18 14V8h-4v6H8v4h6v6h4v-6h6v-4h-6z\" fill-rule=\"evenodd\"></path></g></svg></span></a></div></div></body></html>'"
     },
     "execution_count": 68,
     "metadata": {},
     "output_type": "execute_result"
    }
   ],
   "source": [
    "html"
   ]
  },
  {
   "cell_type": "code",
   "execution_count": null,
   "metadata": {},
   "outputs": [],
   "source": [
    "news_title= soup.find('div', class_=)"
   ]
  },
  {
   "cell_type": "code",
   "execution_count": null,
   "metadata": {},
   "outputs": [],
   "source": []
  },
  {
   "cell_type": "code",
   "execution_count": null,
   "metadata": {},
   "outputs": [],
   "source": []
  },
  {
   "cell_type": "code",
   "execution_count": null,
   "metadata": {},
   "outputs": [],
   "source": []
  },
  {
   "cell_type": "code",
   "execution_count": null,
   "metadata": {},
   "outputs": [],
   "source": []
  },
  {
   "cell_type": "code",
   "execution_count": null,
   "metadata": {},
   "outputs": [],
   "source": []
  },
  {
   "cell_type": "code",
   "execution_count": null,
   "metadata": {},
   "outputs": [],
   "source": []
  },
  {
   "cell_type": "code",
   "execution_count": null,
   "metadata": {},
   "outputs": [],
   "source": []
  },
  {
   "cell_type": "code",
   "execution_count": null,
   "metadata": {},
   "outputs": [],
   "source": []
  },
  {
   "cell_type": "code",
   "execution_count": null,
   "metadata": {},
   "outputs": [],
   "source": []
  },
  {
   "cell_type": "code",
   "execution_count": null,
   "metadata": {},
   "outputs": [],
   "source": []
  },
  {
   "cell_type": "code",
   "execution_count": null,
   "metadata": {},
   "outputs": [],
   "source": []
  },
  {
   "cell_type": "code",
   "execution_count": null,
   "metadata": {},
   "outputs": [],
   "source": []
  },
  {
   "cell_type": "code",
   "execution_count": null,
   "metadata": {},
   "outputs": [],
   "source": []
  },
  {
   "cell_type": "code",
   "execution_count": null,
   "metadata": {},
   "outputs": [],
   "source": []
  }
 ],
 "metadata": {
  "kernelspec": {
   "display_name": "Python 3",
   "language": "python",
   "name": "python3"
  },
  "language_info": {
   "codemirror_mode": {
    "name": "ipython",
    "version": 3
   },
   "file_extension": ".py",
   "mimetype": "text/x-python",
   "name": "python",
   "nbconvert_exporter": "python",
   "pygments_lexer": "ipython3",
   "version": "3.7.3"
  }
 },
 "nbformat": 4,
 "nbformat_minor": 2
}